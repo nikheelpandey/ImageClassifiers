{
 "cells": [
  {
   "cell_type": "code",
   "execution_count": 17,
   "metadata": {
    "collapsed": false,
    "deletable": true,
    "editable": true
   },
   "outputs": [],
   "source": [
    "import cv2\n",
    "import tensorflow\n",
    "import tflearn\n",
    "import numpy as np \n",
    "import os\n",
    "import random\n",
    "from tqdm import tqdm\n",
    "from random import shuffle\n",
    "training_data = []\n",
    "\n",
    "TRAIN_DIR = '/home/blackperl/Downloads/train'\n",
    "TEST_DIR = '/home/blackperl/Downloads/test'\n",
    "IMG_SIZE= 50\n",
    "LR = 1e-3\n",
    "MODEL_NAME = 'dogvscats-{}-{}.model'.format (LR, '8conv-basic-video')"
   ]
  },
  {
   "cell_type": "code",
   "execution_count": 18,
   "metadata": {
    "collapsed": true,
    "deletable": true,
    "editable": true
   },
   "outputs": [],
   "source": [
    "def label_img(img):\n",
    "\tword_label = img.split('.')[-3]\n",
    "\tif word_label == 'cat' : return [1,0]\n",
    "\telif word_label == 'dog': return [0,1]"
   ]
  },
  {
   "cell_type": "code",
   "execution_count": 19,
   "metadata": {
    "collapsed": false,
    "deletable": true,
    "editable": true
   },
   "outputs": [],
   "source": [
    "def create_train_data():\n",
    "\ttraining_data = []\n",
    "\tfor img in tqdm(os.listdir(TRAIN_DIR)):\n",
    "\t\tlabel = label_img(img)\n",
    "\t\tpath = os.path.join(TRAIN_DIR, img)\n",
    "\t\timg = cv2.resize(cv2.imread(path, cv2.IMREAD_GRAYSCALE),(IMG_SIZE,IMG_SIZE))\n",
    "\t\ttraining_data.append([np.array(img), np.array(label)])\n",
    "        shuffle(training_data)\n",
    "\tnp.save('train_data.npy', training_data)\n",
    "\treturn training_data"
   ]
  },
  {
   "cell_type": "code",
   "execution_count": 5,
   "metadata": {
    "collapsed": false,
    "deletable": true,
    "editable": true
   },
   "outputs": [],
   "source": [
    "def process_test_data():\n",
    "\ttesting_data = []\n",
    "\tfor img in tqdm(os.listdir(TEST_DIR)):\n",
    "\t\tpath = os.path.join(TEST_DIR, img)\n",
    "\t\timg_num = img.split('.')[0]\n",
    "\t\timg = cv2.resize(cv2.imread(path, cv2.IMREAD_GRAYSCALE),(IMG_SIZE,IMG_SIZE))\n",
    "\t\ttraining_data.append([np.array(img), img_num])\n",
    "\n",
    "\tnp.save('test_data.npy', testing_data)\n",
    "\treturn testing_data"
   ]
  },
  {
   "cell_type": "code",
   "execution_count": 6,
   "metadata": {
    "collapsed": false,
    "deletable": true,
    "editable": true,
    "scrolled": true
   },
   "outputs": [
    {
     "name": "stderr",
     "output_type": "stream",
     "text": [
      "100%|██████████| 25000/25000 [04:09<00:00, 100.25it/s]\n"
     ]
    }
   ],
   "source": [
    "train_data = create_train_data()"
   ]
  },
  {
   "cell_type": "code",
   "execution_count": 7,
   "metadata": {
    "collapsed": false,
    "deletable": true,
    "editable": true
   },
   "outputs": [],
   "source": [
    "import tflearn\n",
    "from tflearn.layers.conv import conv_2d, max_pool_2d\n",
    "from tflearn.layers.core import input_data, dropout, fully_connected\n",
    "from tflearn.layers.estimator import regression\n",
    "import tensorflow as tf\n",
    "tf.reset_default_graph()\n",
    "\n",
    "convnet = input_data(shape=[None, 50, 50, 1], name='input')\n",
    "\n",
    "convnet = conv_2d(convnet, 32, 2, activation='relu')\n",
    "convnet = max_pool_2d(convnet, 2)\n",
    "\n",
    "convnet = conv_2d(convnet, 64, 2, activation='relu')\n",
    "convnet = max_pool_2d(convnet, 2)\n",
    "convnet = conv_2d(convnet, 32, 2, activation='relu')\n",
    "convnet = max_pool_2d(convnet, 2)\n",
    "\n",
    "convnet = conv_2d(convnet, 64, 2, activation='relu')\n",
    "convnet = max_pool_2d(convnet, 2)\n",
    "\n",
    "convnet = conv_2d(convnet, 32, 2, activation='relu')\n",
    "convnet = max_pool_2d(convnet, 2)\n",
    "\n",
    "convnet = conv_2d(convnet, 64, 2, activation='relu')\n",
    "convnet = max_pool_2d(convnet, 2)\n",
    "\n",
    "convnet = fully_connected(convnet, 1024, activation='relu')\n",
    "convnet = dropout(convnet, 0.8)\n",
    "\n",
    "convnet = fully_connected(convnet, 2, activation='softmax')\n",
    "convnet = regression(convnet, optimizer='adam', learning_rate=LR, loss='categorical_crossentropy', name='targets')\n",
    "\n",
    "model = tflearn.DNN(convnet, tensorboard_dir='log')\n"
   ]
  },
  {
   "cell_type": "code",
   "execution_count": 8,
   "metadata": {
    "collapsed": false,
    "deletable": true,
    "editable": true
   },
   "outputs": [],
   "source": [
    "if os.path.exists('{}.meta'.format(MODEL_NAME)):\n",
    "\tmodel.load(MODEL_NAME)\n",
    "\tprint('modle loaded!')\n",
    "train = train_data[:-500]\n",
    "test = train_data[-500:]\n",
    "X= np.array([i[0] for i in train]).reshape(-1, 50, 50, 1)\n",
    "Y= [i[1] for i in train]\n",
    "\n",
    "test_x= np.array([i[0] for i in test]).reshape(-1, 50, 50, 1)\n",
    "test_y= [i[1] for i in test]\n",
    "\n"
   ]
  },
  {
   "cell_type": "code",
   "execution_count": 9,
   "metadata": {
    "collapsed": false,
    "deletable": true,
    "editable": true
   },
   "outputs": [
    {
     "name": "stdout",
     "output_type": "stream",
     "text": [
      "Training Step: 1914  | total loss: \u001b[1m\u001b[32m0.54154\u001b[0m\u001b[0m | time: 113.566s\n",
      "| Adam | epoch: 005 | loss: 0.54154 - acc: 0.7162 -- iter: 24448/24500\n",
      "Training Step: 1915  | total loss: \u001b[1m\u001b[32m0.53774\u001b[0m\u001b[0m | time: 114.848s\n",
      "| Adam | epoch: 005 | loss: 0.53774 - acc: 0.7180 | val_loss: 0.57023 - val_acc: 0.7080 -- iter: 24500/24500\n",
      "--\n"
     ]
    }
   ],
   "source": [
    "model.fit({'input': X}, {'targets': Y}, n_epoch=5, validation_set=({'input': test_x}, {'targets': test_y}), snapshot_step=50, show_metric=True, \n",
    "          run_id=MODEL_NAME)\n",
    "    "
   ]
  },
  {
   "cell_type": "code",
   "execution_count": 10,
   "metadata": {
    "collapsed": false,
    "deletable": true,
    "editable": true
   },
   "outputs": [
    {
     "name": "stdout",
     "output_type": "stream",
     "text": [
      "INFO:tensorflow:/home/blackperl/catvdog/dogvscats-0.001-8conv-basic-video.model is not in all_model_checkpoint_paths. Manually adding it.\n"
     ]
    }
   ],
   "source": [
    "model.save(MODEL_NAME)"
   ]
  },
  {
   "cell_type": "code",
   "execution_count": 15,
   "metadata": {
    "collapsed": false,
    "deletable": true,
    "editable": true
   },
   "outputs": [
    {
     "data": {
      "text/plain": [
       "<matplotlib.figure.Figure at 0x7f3bbd19af10>"
      ]
     },
     "metadata": {},
     "output_type": "display_data"
    }
   ],
   "source": [
    "%matplotlib inline\n",
    "\n",
    "import matplotlib\n",
    "import numpy as np\n",
    "import matplotlib.pyplot as plt\n",
    "#test_data = process_test_data()\n",
    "test_data = np.load('test_data.npy')\n",
    "fig= plt.figure()\n",
    "\n",
    "\n",
    "for num, data in enumerate(test_data[:12]):\n",
    "\timg_num = data[1]\n",
    "\timg_data= data[0]\n",
    "\t\n",
    "\t\n",
    "\ty = fig.add_subplot(3,4,num+1)\n",
    "\torig = img_data\n",
    "\tdata= img_data.reshape(50,50,1)\n",
    "\tmodel_out = model.predict([data])[0]\n",
    "\t\n",
    "\tif np.argmax(model_out) == 1: str_label ='Dog'\n",
    "\telse: str_label = 'Cat'\t\n",
    "\n",
    "\ty.imshow(orig, cmap='gray')\n",
    "\tplt.title(str_label)\n",
    "\ty.axes.get_xaxis().set_visible(False)\n",
    "\ty.axes.get_yaxis().set_visible(False)\n",
    "plt.show()"
   ]
  },
  {
   "cell_type": "code",
   "execution_count": 22,
   "metadata": {
    "collapsed": false,
    "deletable": true,
    "editable": true
   },
   "outputs": [],
   "source": [
    "with open('submission-file.csv', 'w') as p:\n",
    "\tp.write('id,label\\n')\n"
   ]
  },
  {
   "cell_type": "code",
   "execution_count": 23,
   "metadata": {
    "collapsed": false,
    "deletable": true,
    "editable": true
   },
   "outputs": [
    {
     "name": "stderr",
     "output_type": "stream",
     "text": [
      "0it [00:00, ?it/s]\n"
     ]
    }
   ],
   "source": [
    "with open('submission-file.csv','a') as p:\n",
    "\tfor data in tqdm(test_data):\n",
    "\t\timg_num = data[1]\n",
    "\t\timg_data= data[0]\n",
    "\t\torig = img_data\n",
    "\t\tdata= img_data.reshape(50,50,1)\n",
    "\t\tmodel_out = model.predict([data])[0]\n",
    "\t\tp.write('{},{}\\n'.format(img_num, model_out[1]))"
   ]
  },
  {
   "cell_type": "code",
   "execution_count": null,
   "metadata": {
    "collapsed": true,
    "deletable": true,
    "editable": true
   },
   "outputs": [],
   "source": []
  },
  {
   "cell_type": "code",
   "execution_count": null,
   "metadata": {
    "collapsed": true,
    "deletable": true,
    "editable": true
   },
   "outputs": [],
   "source": []
  }
 ],
 "metadata": {
  "kernelspec": {
   "display_name": "Python 2",
   "language": "python",
   "name": "python2"
  },
  "language_info": {
   "codemirror_mode": {
    "name": "ipython",
    "version": 2
   },
   "file_extension": ".py",
   "mimetype": "text/x-python",
   "name": "python",
   "nbconvert_exporter": "python",
   "pygments_lexer": "ipython2",
   "version": "2.7.12"
  }
 },
 "nbformat": 4,
 "nbformat_minor": 2
}
